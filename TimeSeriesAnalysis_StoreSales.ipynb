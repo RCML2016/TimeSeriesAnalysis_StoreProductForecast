{
  "nbformat": 4,
  "nbformat_minor": 0,
  "metadata": {
    "colab": {
      "name": "TimeSeriesAnalysis_StoreSales.ipynb",
      "provenance": []
    },
    "kernelspec": {
      "name": "python3",
      "display_name": "Python 3",
      "language": "python"
    }
  },
  "cells": [
    {
      "cell_type": "code",
      "metadata": {
        "id": "KlK_QcpEXTTe",
        "colab_type": "code",
        "colab": {}
      },
      "source": [
        "#from google.colab import files\n",
        "#uploaded = files.upload()"
      ],
      "execution_count": null,
      "outputs": []
    },
    {
      "cell_type": "code",
      "metadata": {
        "id": "WqCCDaa3YMlh",
        "colab_type": "code",
        "colab": {}
      },
      "source": [
        "import plotly.express as px\n",
        "from fbprophet import Prophet\n",
        "from sklearn.metrics import mean_squared_error\n",
        "from math import sqrt\n",
        "from statsmodels.distributions.empirical_distribution import ECDF\n",
        "import datetime\n",
        "import pandas as pd\n",
        "import numpy as np\n",
        "import pickle\n",
        "\n",
        "\n",
        "df=pd.read_csv('https://github.com/RCML2016/TimeSeriesAnalysis_StoreProductForecast/blob/master/Sales_Product_Price_by_Store.csv?raw=true',sep=',')\n",
        "#df\n"
      ],
      "execution_count": null,
      "outputs": []
    },
    {
      "cell_type": "code",
      "metadata": {
        "id": "_JkVf0zjYiqN",
        "colab_type": "code",
        "colab": {}
      },
      "source": [
        "#import io\n",
        "#df2 = pd.read_csv(io.BytesIO(uploaded['Sales_Product_Price_by_Store.csv']))\n",
        "# Dataset is now stored in a Pandas Dataframe\n",
        "#df = pd.read_csv('Sales_Product_Price_by_Store.csv')"
      ],
      "execution_count": null,
      "outputs": []
    },
    {
      "cell_type": "code",
      "metadata": {
        "id": "hGW8TjwGZmqM",
        "colab_type": "code",
        "colab": {
          "base_uri": "https://localhost:8080/",
          "height": 202
        },
        "outputId": "c77f9b0d-54e9-4e6e-e61a-4b62d06dd073"
      },
      "source": [
        "df['Date']=pd.to_datetime(df['Date'])\n",
        "df['weekly_sales']=df['Price'] * df['Weekly_Units_Sold']\n",
        "df.head()"
      ],
      "execution_count": null,
      "outputs": []
    },
    {
      "cell_type": "code",
      "metadata": {
        "id": "HJORIkLeazaK",
        "colab_type": "code",
        "colab": {
          "base_uri": "https://localhost:8080/",
          "height": 233
        },
        "outputId": "b11382f4-e442-4462-d952-168b572c0608"
      },
      "source": [
        "df.set_index('Date', inplace=True)\n",
        "df['year']=df.index.year\n",
        "df['month']=df.index.month\n",
        "df['day']=df.index.day\n",
        "df['week_of_year']=df.index.weekofyear\n",
        "df.head()#"
      ],
      "execution_count": null,
      "outputs": []
    },
    {
      "cell_type": "code",
      "metadata": {
        "id": "49psYvW6koC0",
        "colab_type": "code",
        "colab": {
          "base_uri": "https://localhost:8080/",
          "height": 284
        },
        "outputId": "c7f812f7-71d5-47d3-88ea-00d8b52437f0"
      },
      "source": [
        "import matplotlib.pyplot as plt\n",
        "import seaborn as sns\n",
        "sns.set(style='ticks')\n",
        "c= '#386B7F'\n",
        "figure, axes=plt.subplots(nrows=2, ncols=2)\n",
        "figure.tight_layout(pad=2.0)\n",
        "plt.subplot(211)\n",
        "cdf=ECDF(df['Weekly_Units_Sold'])\n",
        "plt.plot(cdf.x,cdf.y,label=\"statmodels\",color=c);\n",
        "plt.xlabel('weekly Units Sold'); plt.ylabel('ECDF');\n",
        "\n",
        "plt.subplot(212)\n",
        "cdf=ECDF(df['weekly_sales'])\n",
        "plt.plot(cdf.x,cdf.y,label=\"statmodels\",color=c);\n",
        "plt.xlabel('Weekly Sales'); plt.ylabel('ECDF');"
      ],
      "execution_count": null,
      "outputs": []
    },
    {
      "cell_type": "code",
      "metadata": {
        "id": "uvqyJin0nNPK",
        "colab_type": "code",
        "colab": {
          "base_uri": "https://localhost:8080/",
          "height": 355
        },
        "outputId": "e172e84d-e80c-45d1-bae7-94b612247a30"
      },
      "source": [
        "df.groupby('Store')['weekly_sales'].describe()"
      ],
      "execution_count": null,
      "outputs": []
    },
    {
      "cell_type": "code",
      "metadata": {
        "id": "OFILhG11nj1o",
        "colab_type": "code",
        "colab": {
          "base_uri": "https://localhost:8080/",
          "height": 208
        },
        "outputId": "d671ed49-3756-4bd8-b3c4-e4890276c581"
      },
      "source": [
        "df.groupby('Store')['Weekly_Units_Sold'].sum()"
      ],
      "execution_count": null,
      "outputs": []
    },
    {
      "cell_type": "code",
      "metadata": {
        "id": "fpRrrWCen7X8",
        "colab_type": "code",
        "colab": {
          "base_uri": "https://localhost:8080/",
          "height": 380
        },
        "outputId": "e98766ef-aec1-4e40-a3f8-20887a6b66f0"
      },
      "source": [
        "g = sns.FacetGrid(df, col=\"Is_Holiday\", height=4, aspect=.8)\n",
        "g.map(sns.barplot,\"Product\",\"Price\")"
      ],
      "execution_count": null,
      "outputs": []
    },
    {
      "cell_type": "markdown",
      "metadata": {
        "id": "t0wWN17Z_WXs",
        "colab_type": "text"
      },
      "source": [
        "Product 2 is the cheapest product among these three products, so, it sells the most. Product 3 is the most expensive product among these three. Product price did not change during holidays.\n",
        "\n",
        "Because we have recorded holidays sales, so we will analyze if holiday also contributed to the sales."
      ]
    },
    {
      "cell_type": "code",
      "metadata": {
        "id": "8O9lMKG9-28l",
        "colab_type": "code",
        "colab": {
          "base_uri": "https://localhost:8080/",
          "height": 267
        },
        "outputId": "80f41d40-0e42-4b00-e11a-e8da7b9e6900"
      },
      "source": [
        "g = sns.FacetGrid(df, row=\"Is_Holiday\",\n",
        "                  height=1.7, aspect=4,)\n",
        "g.map(sns.distplot, \"Weekly_Units_Sold\", hist=False, rug=True)"
      ],
      "execution_count": null,
      "outputs": []
    },
    {
      "cell_type": "code",
      "metadata": {
        "id": "sJvefYGZ_oT8",
        "colab_type": "code",
        "colab": {
          "base_uri": "https://localhost:8080/",
          "height": 889
        },
        "outputId": "585f4d5d-71b4-4906-85ba-7b780e8c3b8f"
      },
      "source": [
        "sns.factorplot(data=df,\n",
        "               x= 'Is_Holiday',\n",
        "               y='Weekly_Units_Sold',\n",
        "               hue='Store')\n",
        "\n",
        "sns.factorplot(data= df, \n",
        "               x= 'Is_Holiday',\n",
        "               y= 'Weekly_Units_Sold',\n",
        "               hue= 'Product')"
      ],
      "execution_count": null,
      "outputs": []
    },
    {
      "cell_type": "markdown",
      "metadata": {
        "id": "DTO6iMLJAlXX",
        "colab_type": "text"
      },
      "source": [
        "From the above figures we can see that holidays do not have a positive impact on the business. For most of the stores, weekly unit sales on the holidays is as same as the normal days, while store 10 also face a decrease in sales during the holidays."
      ]
    },
    {
      "cell_type": "markdown",
      "metadata": {
        "id": "yT1_EkMzW-Cb",
        "colab_type": "text"
      },
      "source": [
        "# New Section"
      ]
    },
    {
      "cell_type": "markdown",
      "metadata": {
        "id": "ilGE7wQhA5SD",
        "colab_type": "text"
      },
      "source": [
        "Weekly units sold for product 1 had a slightly increase during the holidays, while product 2 and product 3 had a decrease during the holidays."
      ]
    },
    {
      "cell_type": "code",
      "metadata": {
        "id": "WNccSM89BBWA",
        "colab_type": "code",
        "colab": {
          "base_uri": "https://localhost:8080/",
          "height": 437
        },
        "outputId": "d0901b9e-4732-4c92-c331-f48f2c609e1f"
      },
      "source": [
        "g = sns.FacetGrid(df, col=\"Product\", row=\"Is_Holiday\", margin_titles=True, height=3)\n",
        "g.map(plt.scatter, \"Price\", \"Weekly_Units_Sold\", color=\"#338844\", edgecolor=\"white\", s=50, lw=1)\n",
        "g.set(xlim=(0, 30), ylim=(0, 2600));"
      ],
      "execution_count": null,
      "outputs": []
    },
    {
      "cell_type": "markdown",
      "metadata": {
        "id": "0p7LIQCuBXlk",
        "colab_type": "text"
      },
      "source": [
        "Every product has more than one price, both in holidays and normal days. One price is regular price, and another is a promotional price. However, the price gap for product 3 is huge, it was slashed to almost 50% off during promotions.\n",
        "\n",
        "Product 3 made the most sales during normal days.\n",
        "\n"
      ]
    },
    {
      "cell_type": "code",
      "metadata": {
        "id": "aAWN_xsbBaCm",
        "colab_type": "code",
        "colab": {
          "base_uri": "https://localhost:8080/",
          "height": 671
        },
        "outputId": "7645993f-318e-43e0-ca96-4e7a64c77b9c"
      },
      "source": [
        "g = sns.FacetGrid(df, col=\"Store\", hue=\"Product\", margin_titles=True, col_wrap=3)\n",
        "g.map(plt.scatter, 'Price', 'Weekly_Units_Sold', alpha=.7)\n",
        "g.add_legend()"
      ],
      "execution_count": null,
      "outputs": []
    },
    {
      "cell_type": "markdown",
      "metadata": {
        "id": "uJB68OIFB8Og",
        "colab_type": "text"
      },
      "source": [
        "All the stores have the similar price promotion pattern, for some reason, Store 10 sells the most during the promotions. All the products have the regular price and promotion price. Product 3 has the highest discount and sells the most during the promotions."
      ]
    },
    {
      "cell_type": "code",
      "metadata": {
        "id": "H6zZV-A6B_OX",
        "colab_type": "code",
        "colab": {}
      },
      "source": [
        "#df.groupby(['Product', 'promotion'])['Price', 'Weekly_Units_Sold'].mean()"
      ],
      "execution_count": null,
      "outputs": []
    },
    {
      "cell_type": "code",
      "metadata": {
        "id": "g0p-DL56EEQr",
        "colab_type": "code",
        "colab": {
          "base_uri": "https://localhost:8080/",
          "height": 633
        },
        "outputId": "75c94a78-fa0a-4961-bb50-36978c5809fb"
      },
      "source": [
        "corr_all = df.corr()\n",
        "\n",
        "# Generate a mask for the upper triangle\n",
        "mask = np.zeros_like(corr_all, dtype = np.bool)\n",
        "mask[np.triu_indices_from(mask)] = True\n",
        "\n",
        "# Set up the matplotlib figure\n",
        "f, ax = plt.subplots(figsize = (11, 9))\n",
        "\n",
        "# Draw the heatmap with the mask and correct aspect ratio\n",
        "sns.heatmap(corr_all, mask = mask,\n",
        "            square = True, linewidths = .5, ax = ax, cmap = \"BuPu\")      \n",
        "plt.show();"
      ],
      "execution_count": null,
      "outputs": []
    },
    {
      "cell_type": "markdown",
      "metadata": {
        "id": "cv0eranLEjZ-",
        "colab_type": "text"
      },
      "source": [
        "We have a strong positive correlation between price and Base price, weekly units sold and weekly sales, base price and product, price and product. We can also observe a positive correlation between month and week of the year."
      ]
    },
    {
      "cell_type": "markdown",
      "metadata": {
        "id": "gW_3DU6ELN3r",
        "colab_type": "text"
      },
      "source": [
        "Observations of our EDA:\n",
        "\n",
        "The most selling and crowded Store is Store 10, and the least crowded store is Store 5.\n",
        "In terms of number of units sold, the most selling product is product 2. In terms of sales dollars, Product 3 posts the highest sales during normal days.\n",
        "Stores do not necessarily run product promotions during holidays. Holidays do not seem to have an impact on Stores’ performance.\n",
        "Product 1 sells a little more during holidays, however, Product 2 and Product 3 sell less on holidays.\n",
        "Product 2 seems to be the cheapest product, and Product 3 is the most expensive product.\n",
        "Most stores have some kind of seasonality and they make the highest sales around July.\n",
        "Product 1 sells a little more in February than the other months, Product 2 sells the most around April and July, and Product 3 sells the most around July.\n",
        "In general, product 2 sells the most at Store 10, but in July, Product 3 has the highest sales in this store.\n",
        "Each product has its regular price and promotional price. There isn’t significant gap between regular price and promotional price on Product 1 and Product 2, however, Product 3’s promotional price can be slashed to 50% of its original price. Although every store makes this kind of price cut for product 3, Store 10 is the one made the highest sales during the price cut.\n",
        "It is nothing unusual to sell more during promotion than the normal days. Store 10’s made Product 3 the best selling product around July."
      ]
    },
    {
      "cell_type": "markdown",
      "metadata": {
        "id": "TaaLSziRLVQ1",
        "colab_type": "text"
      },
      "source": [
        "Time Series Forecasting and Sales Prediction\n",
        "Now let’s move to the Time Series Forecasting Part of this article, here we will forecast sales, according to our above observations of exploratory data analysis."
      ]
    },
    {
      "cell_type": "code",
      "metadata": {
        "id": "h417m1LMLXSP",
        "colab_type": "code",
        "colab": {
          "base_uri": "https://localhost:8080/",
          "height": 829
        },
        "outputId": "e48d6a11-7c22-4b0a-aa50-b56e11d2d237"
      },
      "source": [
        "# store types\n",
        "sales_1 = df[df.Store == 1]['weekly_sales']\n",
        "sales_2 = df[df.Store == 2]['weekly_sales']\n",
        "sales_3 = df[df.Store == 3]['weekly_sales']\n",
        "sales_4 = df[df.Store == 4]['weekly_sales']\n",
        "sales_5 = df[df.Store == 5]['weekly_sales']\n",
        "sales_6 = df[df.Store == 6]['weekly_sales']\n",
        "sales_7 = df[df.Store == 7]['weekly_sales']\n",
        "sales_8 = df[df.Store == 8]['weekly_sales']\n",
        "sales_10 = df[df.Store == 10]['weekly_sales']\n",
        "\n",
        "f, (ax1, ax2, ax3, ax4, ax5, ax6, ax7, ax8, ax9) = plt.subplots(9, figsize = (20, 15))\n",
        "\n",
        "# store types\n",
        "sales_1.plot(color = c, ax = ax1)\n",
        "sales_2.plot(color = c, ax = ax2)\n",
        "sales_3.plot(color = c, ax = ax3)\n",
        "sales_4.plot(color = c, ax = ax4)\n",
        "sales_5.plot(color = c, ax = ax5)\n",
        "sales_6.plot(color = c, ax = ax6)\n",
        "sales_7.plot(color = c, ax = ax7)\n",
        "sales_8.plot(color = c, ax = ax8)\n",
        "sales_10.plot(color = c, ax = ax9)"
      ],
      "execution_count": null,
      "outputs": []
    },
    {
      "cell_type": "markdown",
      "metadata": {
        "id": "CkBQurq5LsLC",
        "colab_type": "text"
      },
      "source": [
        "Time Series Forecasting\n",
        "Time Series of the weekly sales:"
      ]
    },
    {
      "cell_type": "code",
      "metadata": {
        "id": "VK1dSnZQLyPt",
        "colab_type": "code",
        "colab": {
          "base_uri": "https://localhost:8080/",
          "height": 542
        },
        "outputId": "dbd38dbc-9cc9-4c84-877f-132196688336"
      },
      "source": [
        "store_10_pro_3 = df[(df.Store == 10) & (df.Product == 3)].loc[:, ['Base Price', 'Price', 'Weekly_Units_Sold', 'weekly_sales']]\n",
        "store_10_pro_3.reset_index(level=0, inplace=True)\n",
        "fig = px.line(store_10_pro_3, x='Date', y='weekly_sales')\n",
        "fig.update_layout(title_text='Time Series of weekly sales')\n",
        "fig.show()"
      ],
      "execution_count": null,
      "outputs": []
    },
    {
      "cell_type": "markdown",
      "metadata": {
        "id": "imuzTB5SMHn-",
        "colab_type": "text"
      },
      "source": [
        "Product 2’s seasonality at store 10 is obvious. The sales always peak between July and September during school holiday. Below we are implementing prophet model, forecasting the weekly sales for the future 50 weeks."
      ]
    },
    {
      "cell_type": "code",
      "metadata": {
        "id": "Yhk-R7_NBKM_",
        "colab_type": "code",
        "colab": {}
      },
      "source": [
        "store_10_pro_3 = store_10_pro_3[['Date', 'weekly_sales']].rename(columns = {'Date': 'ds',\n",
        "                                'weekly_sales': 'y'})"
      ],
      "execution_count": null,
      "outputs": []
    },
    {
      "cell_type": "code",
      "metadata": {
        "id": "NECtm0WqMJSy",
        "colab_type": "code",
        "colab": {
          "base_uri": "https://localhost:8080/",
          "height": 298
        },
        "outputId": "700b59b9-e4a5-4840-8715-5be0eb204cd3"
      },
      "source": [
        "model = Prophet(interval_width = 0.95)\n",
        "model.fit(store_10_pro_3)\n",
        "\n",
        "future_dates = model.make_future_dataframe(periods = 50, freq='W')\n",
        "\n",
        "future_dates.tail(7)"
      ],
      "execution_count": null,
      "outputs": []
    },
    {
      "cell_type": "code",
      "metadata": {
        "id": "OJEpXjC7PxxW",
        "colab_type": "code",
        "colab": {
          "base_uri": "https://localhost:8080/",
          "height": 263
        },
        "outputId": "a36a9696-a774-4e7b-b670-40de846feb71"
      },
      "source": [
        "forecast = model.predict(future_dates)\n",
        "\n",
        "# preditions for last week\n",
        "forecast[['ds', 'yhat', 'yhat_lower', 'yhat_upper']].tail(7)"
      ],
      "execution_count": null,
      "outputs": []
    },
    {
      "cell_type": "code",
      "metadata": {
        "id": "mdzgXei5P6Qi",
        "colab_type": "code",
        "colab": {
          "base_uri": "https://localhost:8080/",
          "height": 857
        },
        "outputId": "7b1efc3c-9566-4705-fb6a-a9baa7465b3f"
      },
      "source": [
        "model.plot(forecast)"
      ],
      "execution_count": null,
      "outputs": []
    },
    {
      "cell_type": "code",
      "metadata": {
        "id": "est3XyS2QC9i",
        "colab_type": "code",
        "colab": {
          "base_uri": "https://localhost:8080/",
          "height": 857
        },
        "outputId": "7b72f7a8-f0b7-4261-a8b4-d72813d0e843"
      },
      "source": [
        "model.plot_components(forecast)"
      ],
      "execution_count": null,
      "outputs": []
    },
    {
      "cell_type": "code",
      "metadata": {
        "id": "XFaXX-NMQb8a",
        "colab_type": "code",
        "colab": {
          "base_uri": "https://localhost:8080/",
          "height": 35
        },
        "outputId": "55a6723c-3439-4f14-cb3f-64f5abfec70d"
      },
      "source": [
        "metric_df = forecast.set_index('ds')[['yhat']].join(store_10_pro_3.set_index('ds').y).reset_index()\n",
        "metric_df.dropna(inplace=True)\n",
        "error = mean_squared_error(metric_df.y, metric_df.yhat)\n",
        "print('The RMSE is {}'. format(sqrt(error)))"
      ],
      "execution_count": null,
      "outputs": []
    },
    {
      "cell_type": "code",
      "execution_count": null,
      "metadata": {},
      "outputs": [],
      "source": [
        "with open ('StorePrdctTsPredection.pkl','wb') as f:\n",
        "    pickle.dump(forecast,f)"
      ]
    },
    {
      "cell_type": "code",
      "execution_count": null,
      "metadata": {},
      "outputs": [],
      "source": []
    }
  ]
}